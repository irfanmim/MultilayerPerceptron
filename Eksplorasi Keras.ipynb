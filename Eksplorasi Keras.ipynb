{
 "cells": [
  {
   "cell_type": "markdown",
   "metadata": {},
   "source": [
    "## Eksplorasi Keras"
   ]
  },
  {
   "cell_type": "code",
   "execution_count": 89,
   "metadata": {},
   "outputs": [],
   "source": [
    "import pandas as pd\n",
    "import numpy as np\n",
    "from sklearn.preprocessing import LabelEncoder\n",
    "from sklearn.model_selection import train_test_split\n"
   ]
  },
  {
   "cell_type": "markdown",
   "metadata": {},
   "source": [
    "### Preprocess Data (belum selesai)"
   ]
  },
  {
   "cell_type": "code",
   "execution_count": 93,
   "metadata": {},
   "outputs": [
    {
     "name": "stdout",
     "output_type": "stream",
     "text": [
      "    day   outlook  temp humidity    wind play\n",
      "0    D1     Sunny   Hot     High    Weak   No\n",
      "1    D2     Sunny   Hot     High  Strong   No\n",
      "2    D3  Overcast   Hot     High    Weak  Yes\n",
      "3    D4      Rain  Mild     High    Weak  Yes\n",
      "4    D5      Rain  Cool   Normal    Weak  Yes\n",
      "5    D6      Rain  Cool   Normal  Strong   No\n",
      "6    D7  Overcast  Cool   Normal  Strong  Yes\n",
      "7    D8     Sunny  Mild     High    Weak   No\n",
      "8    D9     Sunny  Cool   Normal    Weak  Yes\n",
      "9   D10      Rain  Mild   Normal    Weak  Yes\n",
      "10  D11     Sunny  Mild   Normal  Strong  Yes\n",
      "11  D12  Overcast  Mild     High  Strong  Yes\n",
      "12  D13  Overcast   Hot   Normal    Weak  Yes\n",
      "13  D14      Rain  Mild     High  Strong   No\n",
      "\n",
      "['No' 'No' 'Yes' 'Yes' 'Yes' 'No' 'Yes' 'No' 'Yes' 'Yes' 'Yes' 'Yes' 'Yes'\n",
      " 'No']\n",
      "\n",
      "[0 0 1 1 1 0 1 0 1 1 1 1 1 0]\n",
      "\n",
      "[['Sunny' 'Hot' 'High' 'Weak']\n",
      " ['Sunny' 'Hot' 'High' 'Strong']\n",
      " ['Overcast' 'Hot' 'High' 'Weak']\n",
      " ['Rain' 'Mild' 'High' 'Weak']\n",
      " ['Rain' 'Cool' 'Normal' 'Weak']\n",
      " ['Rain' 'Cool' 'Normal' 'Strong']\n",
      " ['Overcast' 'Cool' 'Normal' 'Strong']\n",
      " ['Sunny' 'Mild' 'High' 'Weak']\n",
      " ['Sunny' 'Cool' 'Normal' 'Weak']\n",
      " ['Rain' 'Mild' 'Normal' 'Weak']\n",
      " ['Sunny' 'Mild' 'Normal' 'Strong']\n",
      " ['Overcast' 'Mild' 'High' 'Strong']\n",
      " ['Overcast' 'Hot' 'Normal' 'Weak']\n",
      " ['Rain' 'Mild' 'High' 'Strong']]\n",
      "\n",
      "\n",
      "[[2 1 0 1]\n",
      " [2 1 0 0]\n",
      " [0 1 0 1]\n",
      " [1 2 0 1]\n",
      " [1 0 1 1]\n",
      " [1 0 1 0]\n",
      " [0 0 1 0]\n",
      " [2 2 0 1]\n",
      " [2 0 1 1]\n",
      " [1 2 1 1]\n",
      " [2 2 1 0]\n",
      " [0 2 0 0]\n",
      " [0 1 1 1]\n",
      " [1 2 0 0]]\n",
      "\n",
      "\n",
      "[[0 0 1 0]\n",
      " [2 0 1 1]\n",
      " [2 1 0 1]\n",
      " [1 0 1 0]\n",
      " [0 2 0 0]\n",
      " [2 2 0 1]\n",
      " [0 1 0 1]\n",
      " [2 2 1 0]\n",
      " [2 1 0 0]\n",
      " [1 0 1 1]\n",
      " [1 2 1 1]\n",
      " [0 1 1 1]]\n",
      "\n",
      "[[1 2 0 0]\n",
      " [1 2 0 1]]\n",
      "\n",
      "[1 1 0 0 1 0 1 1 0 1 1 1]\n",
      "\n",
      "[0 1]\n",
      "\n"
     ]
    }
   ],
   "source": [
    "tennis2 = pd.read_csv(\"tennis.csv\")\n",
    "print(tennis2)\n",
    "print()\n",
    "\n",
    "y = tennis2.play\n",
    "print(y.values)\n",
    "\n",
    "ytes = y.values\n",
    "\n",
    "tennis_target = LabelEncoder().fit_transform(ytes)\n",
    "print()\n",
    "print(tennis_target)\n",
    "print()\n",
    "\n",
    "# Drop last columns\n",
    "tennis2.drop(tennis2.columns[0], axis=1, inplace=True)\n",
    "tennis2.drop(tennis2.columns[-1], axis=1, inplace=True)\n",
    "\n",
    "\n",
    "print(tennis2.values)\n",
    "print()\n",
    "\n",
    "tennis_data = tennis2.apply(LabelEncoder().fit_transform)\n",
    "tennis_data = tennis_data.values\n",
    "\n",
    "print()\n",
    "print(tennis_data)\n",
    "\n",
    "\n",
    "# split train and test data\n",
    "train_x, test_x, train_y, test_y = train_test_split(tennis_data, tennis_target, test_size= 0.1)\n",
    "\n",
    "print()\n",
    "print()\n",
    "print(train_x)\n",
    "print()\n",
    "print(test_x)\n",
    "print()\n",
    "print(train_y)\n",
    "print()\n",
    "print(test_y)\n",
    "print()"
   ]
  },
  {
   "cell_type": "markdown",
   "metadata": {},
   "source": [
    "### ANN"
   ]
  },
  {
   "cell_type": "code",
   "execution_count": null,
   "metadata": {},
   "outputs": [],
   "source": []
  }
 ],
 "metadata": {
  "kernelspec": {
   "display_name": "Python 3",
   "language": "python",
   "name": "python3"
  },
  "language_info": {
   "codemirror_mode": {
    "name": "ipython",
    "version": 3
   },
   "file_extension": ".py",
   "mimetype": "text/x-python",
   "name": "python",
   "nbconvert_exporter": "python",
   "pygments_lexer": "ipython3",
   "version": "3.6.7"
  }
 },
 "nbformat": 4,
 "nbformat_minor": 2
}
