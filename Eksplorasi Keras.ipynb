{
 "cells": [
  {
   "cell_type": "markdown",
   "metadata": {},
   "source": [
    "## Eksplorasi Keras"
   ]
  },
  {
   "cell_type": "code",
   "execution_count": 1,
   "metadata": {},
   "outputs": [],
   "source": [
    "import pandas as pd\n",
    "import numpy as np\n",
    "from sklearn.preprocessing import LabelEncoder\n",
    "from sklearn.model_selection import train_test_split\n"
   ]
  },
  {
   "cell_type": "markdown",
   "metadata": {},
   "source": [
    "### Preprocess Data (belum selesai)"
   ]
  },
  {
   "cell_type": "code",
   "execution_count": 2,
   "metadata": {},
   "outputs": [],
   "source": [
    "tennis2 = pd.read_csv(\"tennis.csv\")\n",
    "\n",
    "play_data = tennis2.play\n",
    "play_data = play_data.values\n",
    "\n",
    "tennis_target = LabelEncoder().fit_transform(play_data)\n",
    "\n",
    "# Drop last columns\n",
    "tennis2.drop(tennis2.columns[0], axis=1, inplace=True)\n",
    "tennis2.drop(tennis2.columns[-1], axis=1, inplace=True)\n",
    "\n",
    "# encode data (masih harus dibenerin)\n",
    "tennis_data = tennis2.apply(LabelEncoder().fit_transform)\n",
    "tennis_data = tennis_data.values\n",
    "\n",
    "# split train and test data\n",
    "train_x, test_x, train_y, test_y = train_test_split(tennis_data, tennis_target, test_size= 0.1)"
   ]
  },
  {
   "cell_type": "markdown",
   "metadata": {},
   "source": [
    "### ANN Keras"
   ]
  },
  {
   "cell_type": "code",
   "execution_count": 3,
   "metadata": {},
   "outputs": [
    {
     "name": "stderr",
     "output_type": "stream",
     "text": [
      "Using TensorFlow backend.\n"
     ]
    },
    {
     "name": "stdout",
     "output_type": "stream",
     "text": [
      "_________________________________________________________________\n",
      "Layer (type)                 Output Shape              Param #   \n",
      "=================================================================\n",
      "dense_1 (Dense)              (None, 32)                160       \n",
      "_________________________________________________________________\n",
      "dense_2 (Dense)              (None, 1)                 33        \n",
      "=================================================================\n",
      "Total params: 193\n",
      "Trainable params: 193\n",
      "Non-trainable params: 0\n",
      "_________________________________________________________________\n"
     ]
    }
   ],
   "source": [
    "from keras.models import Sequential\n",
    "from keras.layers import Dense\n",
    "\n",
    "model = Sequential()\n",
    "\n",
    "## adding layer (contoh: 2 layer (hidden layer 32 neuron + output layer 1 neuron)) //bisa diganti2 parameternya\n",
    "model.add(Dense(32, input_dim=train_x.shape[1], activation='relu'))\n",
    "model.add(Dense(1, activation='sigmoid', kernel_initializer='glorot_uniform', bias_initializer='glorot_uniform'))\n",
    "\n",
    "model.summary()"
   ]
  },
  {
   "cell_type": "code",
   "execution_count": 4,
   "metadata": {},
   "outputs": [
    {
     "name": "stdout",
     "output_type": "stream",
     "text": [
      "Epoch 1/50\n",
      "12/12 [==============================] - 0s 14ms/step - loss: 0.7400 - acc: 0.4167\n",
      "Epoch 2/50\n",
      "12/12 [==============================] - 0s 416us/step - loss: 0.7173 - acc: 0.5000\n",
      "Epoch 3/50\n",
      "12/12 [==============================] - 0s 416us/step - loss: 0.6957 - acc: 0.5000\n",
      "Epoch 4/50\n",
      "12/12 [==============================] - 0s 499us/step - loss: 0.6849 - acc: 0.5000\n",
      "Epoch 5/50\n",
      "12/12 [==============================] - 0s 665us/step - loss: 0.6682 - acc: 0.5833\n",
      "Epoch 6/50\n",
      "12/12 [==============================] - 0s 582us/step - loss: 0.6583 - acc: 0.6667\n",
      "Epoch 7/50\n",
      "12/12 [==============================] - 0s 665us/step - loss: 0.6493 - acc: 0.6667\n",
      "Epoch 8/50\n",
      "12/12 [==============================] - 0s 582us/step - loss: 0.6422 - acc: 0.6667\n",
      "Epoch 9/50\n",
      "12/12 [==============================] - 0s 666us/step - loss: 0.6318 - acc: 0.6667\n",
      "Epoch 10/50\n",
      "12/12 [==============================] - 0s 499us/step - loss: 0.6250 - acc: 0.5833\n",
      "Epoch 11/50\n",
      "12/12 [==============================] - 0s 745us/step - loss: 0.6174 - acc: 0.6667\n",
      "Epoch 12/50\n",
      "12/12 [==============================] - 0s 582us/step - loss: 0.6132 - acc: 0.6667\n",
      "Epoch 13/50\n",
      "12/12 [==============================] - 0s 748us/step - loss: 0.6062 - acc: 0.7500\n",
      "Epoch 14/50\n",
      "12/12 [==============================] - 0s 582us/step - loss: 0.6010 - acc: 0.8333\n",
      "Epoch 15/50\n",
      "12/12 [==============================] - 0s 665us/step - loss: 0.5969 - acc: 0.8333\n",
      "Epoch 16/50\n",
      "12/12 [==============================] - 0s 499us/step - loss: 0.5913 - acc: 0.8333\n",
      "Epoch 17/50\n",
      "12/12 [==============================] - 0s 748us/step - loss: 0.5881 - acc: 0.8333\n",
      "Epoch 18/50\n",
      "12/12 [==============================] - 0s 582us/step - loss: 0.5830 - acc: 0.7500\n",
      "Epoch 19/50\n",
      "12/12 [==============================] - 0s 582us/step - loss: 0.5788 - acc: 0.7500\n",
      "Epoch 20/50\n",
      "12/12 [==============================] - 0s 581us/step - loss: 0.5766 - acc: 0.7500\n",
      "Epoch 21/50\n",
      "12/12 [==============================] - 0s 582us/step - loss: 0.5715 - acc: 0.7500\n",
      "Epoch 22/50\n",
      "12/12 [==============================] - 0s 665us/step - loss: 0.5690 - acc: 0.7500\n",
      "Epoch 23/50\n",
      "12/12 [==============================] - 0s 416us/step - loss: 0.5654 - acc: 0.8333\n",
      "Epoch 24/50\n",
      "12/12 [==============================] - 0s 748us/step - loss: 0.5626 - acc: 0.8333\n",
      "Epoch 25/50\n",
      "12/12 [==============================] - 0s 499us/step - loss: 0.5603 - acc: 0.8333\n",
      "Epoch 26/50\n",
      "12/12 [==============================] - 0s 831us/step - loss: 0.5569 - acc: 0.8333\n",
      "Epoch 27/50\n",
      "12/12 [==============================] - 0s 582us/step - loss: 0.5529 - acc: 0.8333\n",
      "Epoch 28/50\n",
      "12/12 [==============================] - 0s 665us/step - loss: 0.5502 - acc: 0.8333\n",
      "Epoch 29/50\n",
      "12/12 [==============================] - 0s 499us/step - loss: 0.5468 - acc: 0.8333\n",
      "Epoch 30/50\n",
      "12/12 [==============================] - 0s 831us/step - loss: 0.5436 - acc: 0.8333\n",
      "Epoch 31/50\n",
      "12/12 [==============================] - 0s 499us/step - loss: 0.5416 - acc: 0.8333\n",
      "Epoch 32/50\n",
      "12/12 [==============================] - 0s 748us/step - loss: 0.5381 - acc: 0.8333\n",
      "Epoch 33/50\n",
      "12/12 [==============================] - 0s 416us/step - loss: 0.5340 - acc: 0.8333\n",
      "Epoch 34/50\n",
      "12/12 [==============================] - 0s 748us/step - loss: 0.5307 - acc: 0.8333\n",
      "Epoch 35/50\n",
      "12/12 [==============================] - 0s 416us/step - loss: 0.5276 - acc: 0.8333\n",
      "Epoch 36/50\n",
      "12/12 [==============================] - 0s 582us/step - loss: 0.5241 - acc: 0.8333\n",
      "Epoch 37/50\n",
      "12/12 [==============================] - 0s 415us/step - loss: 0.5212 - acc: 0.8333\n",
      "Epoch 38/50\n",
      "12/12 [==============================] - 0s 582us/step - loss: 0.5191 - acc: 0.8333\n",
      "Epoch 39/50\n",
      "12/12 [==============================] - 0s 665us/step - loss: 0.5153 - acc: 0.8333\n",
      "Epoch 40/50\n",
      "12/12 [==============================] - 0s 582us/step - loss: 0.5132 - acc: 0.8333\n",
      "Epoch 41/50\n",
      "12/12 [==============================] - 0s 748us/step - loss: 0.5099 - acc: 0.8333\n",
      "Epoch 42/50\n",
      "12/12 [==============================] - 0s 582us/step - loss: 0.5085 - acc: 0.8333\n",
      "Epoch 43/50\n",
      "12/12 [==============================] - 0s 665us/step - loss: 0.5048 - acc: 0.8333\n",
      "Epoch 44/50\n",
      "12/12 [==============================] - 0s 499us/step - loss: 0.5015 - acc: 0.8333\n",
      "Epoch 45/50\n",
      "12/12 [==============================] - 0s 665us/step - loss: 0.4984 - acc: 0.8333\n",
      "Epoch 46/50\n",
      "12/12 [==============================] - 0s 416us/step - loss: 0.4957 - acc: 0.8333\n",
      "Epoch 47/50\n",
      "12/12 [==============================] - 0s 582us/step - loss: 0.4924 - acc: 0.8333\n",
      "Epoch 48/50\n",
      "12/12 [==============================] - 0s 665us/step - loss: 0.4894 - acc: 0.8333\n",
      "Epoch 49/50\n",
      "12/12 [==============================] - 0s 499us/step - loss: 0.4862 - acc: 0.8333\n",
      "Epoch 50/50\n",
      "12/12 [==============================] - 0s 665us/step - loss: 0.4843 - acc: 0.8333\n"
     ]
    },
    {
     "data": {
      "text/plain": [
       "<keras.callbacks.History at 0x2058b1216a0>"
      ]
     },
     "execution_count": 4,
     "metadata": {},
     "output_type": "execute_result"
    }
   ],
   "source": [
    "model.compile(loss='binary_crossentropy',\n",
    "              optimizer='adam',\n",
    "              metrics=['accuracy'])\n",
    "\n",
    "## train data (co:epoch 50x) // bisa diganti2 parameternya\n",
    "model.fit(train_x, train_y, epochs= 50, batch_size= 2)"
   ]
  },
  {
   "cell_type": "code",
   "execution_count": 5,
   "metadata": {},
   "outputs": [
    {
     "name": "stdout",
     "output_type": "stream",
     "text": [
      "2/2 [==============================] - 0s 14ms/step\n",
      "accuracy :  100.0 %\n"
     ]
    }
   ],
   "source": [
    "## test akurasi\n",
    "accuracy = model.evaluate(test_x, test_y)\n",
    "\n",
    "print(\"accuracy : \", accuracy[1]*100, \"%\")"
   ]
  },
  {
   "cell_type": "code",
   "execution_count": 6,
   "metadata": {},
   "outputs": [
    {
     "data": {
      "text/plain": [
       "array([[0.709087  ],\n",
       "       [0.81705457]], dtype=float32)"
      ]
     },
     "execution_count": 6,
     "metadata": {},
     "output_type": "execute_result"
    }
   ],
   "source": [
    "## predict\n",
    "model.predict(test_x)"
   ]
  }
 ],
 "metadata": {
  "kernelspec": {
   "display_name": "Python 3",
   "language": "python",
   "name": "python3"
  },
  "language_info": {
   "codemirror_mode": {
    "name": "ipython",
    "version": 3
   },
   "file_extension": ".py",
   "mimetype": "text/x-python",
   "name": "python",
   "nbconvert_exporter": "python",
   "pygments_lexer": "ipython3",
   "version": "3.6.7"
  }
 },
 "nbformat": 4,
 "nbformat_minor": 2
}
