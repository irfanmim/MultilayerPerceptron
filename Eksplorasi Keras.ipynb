{
 "cells": [
  {
   "cell_type": "markdown",
   "metadata": {},
   "source": [
    "## Eksplorasi Keras"
   ]
  },
  {
   "cell_type": "code",
   "execution_count": 1,
   "metadata": {},
   "outputs": [],
   "source": [
    "import pandas as pd\n",
    "import numpy as np\n",
    "from sklearn.preprocessing import LabelEncoder\n",
    "from sklearn.model_selection import train_test_split\n"
   ]
  },
  {
   "cell_type": "markdown",
   "metadata": {},
   "source": [
    "### Preprocess Data (belum selesai)"
   ]
  },
  {
   "cell_type": "code",
   "execution_count": 2,
   "metadata": {},
   "outputs": [
    {
     "name": "stdout",
     "output_type": "stream",
     "text": [
      "    day   outlook  temp humidity    wind play\n",
      "0    D1     Sunny   Hot     High    Weak   No\n",
      "1    D2     Sunny   Hot     High  Strong   No\n",
      "2    D3  Overcast   Hot     High    Weak  Yes\n",
      "3    D4      Rain  Mild     High    Weak  Yes\n",
      "4    D5      Rain  Cool   Normal    Weak  Yes\n",
      "5    D6      Rain  Cool   Normal  Strong   No\n",
      "6    D7  Overcast  Cool   Normal  Strong  Yes\n",
      "7    D8     Sunny  Mild     High    Weak   No\n",
      "8    D9     Sunny  Cool   Normal    Weak  Yes\n",
      "9   D10      Rain  Mild   Normal    Weak  Yes\n",
      "10  D11     Sunny  Mild   Normal  Strong  Yes\n",
      "11  D12  Overcast  Mild     High  Strong  Yes\n",
      "12  D13  Overcast   Hot   Normal    Weak  Yes\n",
      "13  D14      Rain  Mild     High  Strong   No\n",
      "\n",
      "['No' 'No' 'Yes' 'Yes' 'Yes' 'No' 'Yes' 'No' 'Yes' 'Yes' 'Yes' 'Yes' 'Yes'\n",
      " 'No']\n",
      "\n",
      "[0 0 1 1 1 0 1 0 1 1 1 1 1 0]\n",
      "\n",
      "[['Sunny' 'Hot' 'High' 'Weak']\n",
      " ['Sunny' 'Hot' 'High' 'Strong']\n",
      " ['Overcast' 'Hot' 'High' 'Weak']\n",
      " ['Rain' 'Mild' 'High' 'Weak']\n",
      " ['Rain' 'Cool' 'Normal' 'Weak']\n",
      " ['Rain' 'Cool' 'Normal' 'Strong']\n",
      " ['Overcast' 'Cool' 'Normal' 'Strong']\n",
      " ['Sunny' 'Mild' 'High' 'Weak']\n",
      " ['Sunny' 'Cool' 'Normal' 'Weak']\n",
      " ['Rain' 'Mild' 'Normal' 'Weak']\n",
      " ['Sunny' 'Mild' 'Normal' 'Strong']\n",
      " ['Overcast' 'Mild' 'High' 'Strong']\n",
      " ['Overcast' 'Hot' 'Normal' 'Weak']\n",
      " ['Rain' 'Mild' 'High' 'Strong']]\n",
      "\n",
      "\n",
      "[[2 1 0 1]\n",
      " [2 1 0 0]\n",
      " [0 1 0 1]\n",
      " [1 2 0 1]\n",
      " [1 0 1 1]\n",
      " [1 0 1 0]\n",
      " [0 0 1 0]\n",
      " [2 2 0 1]\n",
      " [2 0 1 1]\n",
      " [1 2 1 1]\n",
      " [2 2 1 0]\n",
      " [0 2 0 0]\n",
      " [0 1 1 1]\n",
      " [1 2 0 0]]\n",
      "\n",
      "\n",
      "[[1 0 1 0]\n",
      " [1 2 1 1]\n",
      " [0 1 0 1]\n",
      " [1 2 0 1]\n",
      " [0 1 1 1]\n",
      " [2 1 0 0]\n",
      " [2 2 0 1]\n",
      " [1 2 0 0]\n",
      " [1 0 1 1]\n",
      " [2 1 0 1]\n",
      " [2 2 1 0]\n",
      " [0 0 1 0]]\n",
      "\n",
      "[[2 0 1 1]\n",
      " [0 2 0 0]]\n",
      "\n",
      "[0 1 1 1 1 0 0 0 1 0 1 1]\n",
      "\n",
      "[1 1]\n",
      "\n"
     ]
    }
   ],
   "source": [
    "tennis2 = pd.read_csv(\"tennis.csv\")\n",
    "print(tennis2)\n",
    "print()\n",
    "\n",
    "y = tennis2.play\n",
    "print(y.values)\n",
    "\n",
    "ytes = y.values\n",
    "\n",
    "tennis_target = LabelEncoder().fit_transform(ytes)\n",
    "print()\n",
    "print(tennis_target)\n",
    "print()\n",
    "\n",
    "# Drop last columns\n",
    "tennis2.drop(tennis2.columns[0], axis=1, inplace=True)\n",
    "tennis2.drop(tennis2.columns[-1], axis=1, inplace=True)\n",
    "\n",
    "\n",
    "print(tennis2.values)\n",
    "print()\n",
    "\n",
    "tennis_data = tennis2.apply(LabelEncoder().fit_transform)\n",
    "tennis_data = tennis_data.values\n",
    "\n",
    "print()\n",
    "print(tennis_data)\n",
    "\n",
    "\n",
    "# split train and test data\n",
    "train_x, test_x, train_y, test_y = train_test_split(tennis_data, tennis_target, test_size= 0.1)\n",
    "\n",
    "print()\n",
    "print()\n",
    "print(train_x)\n",
    "print()\n",
    "print(test_x)\n",
    "print()\n",
    "print(train_y)\n",
    "print()\n",
    "print(test_y)\n",
    "print()"
   ]
  },
  {
   "cell_type": "markdown",
   "metadata": {},
   "source": [
    "### ANN Keras"
   ]
  },
  {
   "cell_type": "code",
   "execution_count": 3,
   "metadata": {},
   "outputs": [
    {
     "name": "stderr",
     "output_type": "stream",
     "text": [
      "Using TensorFlow backend.\n"
     ]
    },
    {
     "name": "stdout",
     "output_type": "stream",
     "text": [
      "_________________________________________________________________\n",
      "Layer (type)                 Output Shape              Param #   \n",
      "=================================================================\n",
      "dense_1 (Dense)              (None, 32)                160       \n",
      "_________________________________________________________________\n",
      "dense_2 (Dense)              (None, 1)                 33        \n",
      "=================================================================\n",
      "Total params: 193\n",
      "Trainable params: 193\n",
      "Non-trainable params: 0\n",
      "_________________________________________________________________\n"
     ]
    }
   ],
   "source": [
    "from keras.models import Sequential\n",
    "from keras.layers import Dense\n",
    "\n",
    "model = Sequential()\n",
    "\n",
    "## adding layer (contoh: 2 layer (hidden layer 32 neuron + output layer 1 neuron)) //bisa diganti2 parameternya\n",
    "model.add(Dense(32, input_dim=train_x.shape[1], activation='relu'))\n",
    "model.add(Dense(1, activation='sigmoid', kernel_initializer='glorot_uniform', bias_initializer='glorot_uniform'))\n",
    "\n",
    "model.summary()"
   ]
  },
  {
   "cell_type": "code",
   "execution_count": 4,
   "metadata": {},
   "outputs": [
    {
     "name": "stdout",
     "output_type": "stream",
     "text": [
      "Epoch 1/50\n",
      "12/12 [==============================] - 0s 13ms/step - loss: 0.6955 - acc: 0.5833\n",
      "Epoch 2/50\n",
      "12/12 [==============================] - 0s 752us/step - loss: 0.6862 - acc: 0.5833\n",
      "Epoch 3/50\n",
      "12/12 [==============================] - 0s 578us/step - loss: 0.6782 - acc: 0.5833\n",
      "Epoch 4/50\n",
      "12/12 [==============================] - 0s 419us/step - loss: 0.6692 - acc: 0.5833\n",
      "Epoch 5/50\n",
      "12/12 [==============================] - 0s 748us/step - loss: 0.6651 - acc: 0.5833\n",
      "Epoch 6/50\n",
      "12/12 [==============================] - 0s 498us/step - loss: 0.6557 - acc: 0.5833\n",
      "Epoch 7/50\n",
      "12/12 [==============================] - 0s 665us/step - loss: 0.6474 - acc: 0.5833\n",
      "Epoch 8/50\n",
      "12/12 [==============================] - 0s 578us/step - loss: 0.6407 - acc: 0.5833\n",
      "Epoch 9/50\n",
      "12/12 [==============================] - 0s 748us/step - loss: 0.6331 - acc: 0.6667\n",
      "Epoch 10/50\n",
      "12/12 [==============================] - 0s 665us/step - loss: 0.6256 - acc: 0.6667\n",
      "Epoch 11/50\n",
      "12/12 [==============================] - 0s 748us/step - loss: 0.6186 - acc: 0.6667\n",
      "Epoch 12/50\n",
      "12/12 [==============================] - 0s 585us/step - loss: 0.6121 - acc: 0.7500\n",
      "Epoch 13/50\n",
      "12/12 [==============================] - 0s 665us/step - loss: 0.6049 - acc: 0.7500\n",
      "Epoch 14/50\n",
      "12/12 [==============================] - 0s 582us/step - loss: 0.6016 - acc: 0.7500\n",
      "Epoch 15/50\n",
      "12/12 [==============================] - 0s 582us/step - loss: 0.5945 - acc: 0.8333\n",
      "Epoch 16/50\n",
      "12/12 [==============================] - 0s 499us/step - loss: 0.5878 - acc: 0.8333\n",
      "Epoch 17/50\n",
      "12/12 [==============================] - 0s 665us/step - loss: 0.5822 - acc: 0.8333\n",
      "Epoch 18/50\n",
      "12/12 [==============================] - 0s 582us/step - loss: 0.5775 - acc: 0.8333\n",
      "Epoch 19/50\n",
      "12/12 [==============================] - 0s 415us/step - loss: 0.5727 - acc: 0.8333\n",
      "Epoch 20/50\n",
      "12/12 [==============================] - 0s 415us/step - loss: 0.5685 - acc: 0.8333\n",
      "Epoch 21/50\n",
      "12/12 [==============================] - 0s 415us/step - loss: 0.5632 - acc: 0.8333\n",
      "Epoch 22/50\n",
      "12/12 [==============================] - 0s 748us/step - loss: 0.5587 - acc: 0.8333\n",
      "Epoch 23/50\n",
      "12/12 [==============================] - 0s 499us/step - loss: 0.5535 - acc: 0.8333\n",
      "Epoch 24/50\n",
      "12/12 [==============================] - 0s 665us/step - loss: 0.5488 - acc: 0.8333\n",
      "Epoch 25/50\n",
      "12/12 [==============================] - 0s 416us/step - loss: 0.5447 - acc: 0.8333\n",
      "Epoch 26/50\n",
      "12/12 [==============================] - 0s 831us/step - loss: 0.5397 - acc: 0.9167\n",
      "Epoch 27/50\n",
      "12/12 [==============================] - 0s 415us/step - loss: 0.5354 - acc: 0.9167\n",
      "Epoch 28/50\n",
      "12/12 [==============================] - 0s 748us/step - loss: 0.5311 - acc: 0.9167\n",
      "Epoch 29/50\n",
      "12/12 [==============================] - 0s 416us/step - loss: 0.5270 - acc: 0.9167\n",
      "Epoch 30/50\n",
      "12/12 [==============================] - 0s 748us/step - loss: 0.5229 - acc: 0.9167\n",
      "Epoch 31/50\n",
      "12/12 [==============================] - 0s 499us/step - loss: 0.5194 - acc: 0.9167\n",
      "Epoch 32/50\n",
      "12/12 [==============================] - 0s 499us/step - loss: 0.5149 - acc: 0.9167\n",
      "Epoch 33/50\n",
      "12/12 [==============================] - 0s 582us/step - loss: 0.5099 - acc: 0.9167\n",
      "Epoch 34/50\n",
      "12/12 [==============================] - 0s 748us/step - loss: 0.5064 - acc: 0.9167\n",
      "Epoch 35/50\n",
      "12/12 [==============================] - 0s 499us/step - loss: 0.5025 - acc: 0.9167\n",
      "Epoch 36/50\n",
      "12/12 [==============================] - 0s 499us/step - loss: 0.4983 - acc: 0.9167\n",
      "Epoch 37/50\n",
      "12/12 [==============================] - 0s 582us/step - loss: 0.4938 - acc: 0.9167\n",
      "Epoch 38/50\n",
      "12/12 [==============================] - 0s 581us/step - loss: 0.4910 - acc: 0.9167\n",
      "Epoch 39/50\n",
      "12/12 [==============================] - 0s 416us/step - loss: 0.4879 - acc: 0.9167\n",
      "Epoch 40/50\n",
      "12/12 [==============================] - 0s 582us/step - loss: 0.4826 - acc: 0.9167\n",
      "Epoch 41/50\n",
      "12/12 [==============================] - 0s 499us/step - loss: 0.4788 - acc: 0.9167\n",
      "Epoch 42/50\n",
      "12/12 [==============================] - 0s 499us/step - loss: 0.4754 - acc: 0.9167\n",
      "Epoch 43/50\n",
      "12/12 [==============================] - 0s 665us/step - loss: 0.4709 - acc: 0.9167\n",
      "Epoch 44/50\n",
      "12/12 [==============================] - 0s 416us/step - loss: 0.4680 - acc: 0.9167\n",
      "Epoch 45/50\n",
      "12/12 [==============================] - 0s 748us/step - loss: 0.4642 - acc: 0.9167\n",
      "Epoch 46/50\n",
      "12/12 [==============================] - 0s 415us/step - loss: 0.4600 - acc: 0.9167\n",
      "Epoch 47/50\n",
      "12/12 [==============================] - 0s 748us/step - loss: 0.4562 - acc: 0.9167\n",
      "Epoch 48/50\n",
      "12/12 [==============================] - 0s 416us/step - loss: 0.4531 - acc: 0.8333\n",
      "Epoch 49/50\n",
      "12/12 [==============================] - 0s 416us/step - loss: 0.4497 - acc: 0.8333\n",
      "Epoch 50/50\n",
      "12/12 [==============================] - 0s 665us/step - loss: 0.4463 - acc: 0.8333\n"
     ]
    },
    {
     "data": {
      "text/plain": [
       "<keras.callbacks.History at 0x158789396d8>"
      ]
     },
     "execution_count": 4,
     "metadata": {},
     "output_type": "execute_result"
    }
   ],
   "source": [
    "model.compile(loss='binary_crossentropy',\n",
    "              optimizer='adam',\n",
    "              metrics=['accuracy'])\n",
    "\n",
    "## train data (co:epoch 50x) // bisa diganti2 parameternya\n",
    "model.fit(train_x, train_y, epochs= 50, batch_size= 2)"
   ]
  },
  {
   "cell_type": "code",
   "execution_count": 5,
   "metadata": {},
   "outputs": [
    {
     "name": "stdout",
     "output_type": "stream",
     "text": [
      "2/2 [==============================] - 0s 13ms/step\n",
      "accuracy :  100.0 %\n"
     ]
    }
   ],
   "source": [
    "## test akurasi\n",
    "accuracy = model.evaluate(test_x, test_y)\n",
    "\n",
    "print(\"accuracy : \", accuracy[1]*100, \"%\")"
   ]
  },
  {
   "cell_type": "code",
   "execution_count": 6,
   "metadata": {},
   "outputs": [
    {
     "data": {
      "text/plain": [
       "array([[0.50068974],\n",
       "       [0.65539473]], dtype=float32)"
      ]
     },
     "execution_count": 6,
     "metadata": {},
     "output_type": "execute_result"
    }
   ],
   "source": [
    "## predict\n",
    "model.predict(test_x)"
   ]
  }
 ],
 "metadata": {
  "kernelspec": {
   "display_name": "Python 3",
   "language": "python",
   "name": "python3"
  },
  "language_info": {
   "codemirror_mode": {
    "name": "ipython",
    "version": 3
   },
   "file_extension": ".py",
   "mimetype": "text/x-python",
   "name": "python",
   "nbconvert_exporter": "python",
   "pygments_lexer": "ipython3",
   "version": "3.6.7"
  }
 },
 "nbformat": 4,
 "nbformat_minor": 2
}
