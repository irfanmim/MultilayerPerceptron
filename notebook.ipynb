{
 "cells": [
  {
   "cell_type": "markdown",
   "metadata": {},
   "source": [
    "# Tugas Besar 2 IF4071 Pembelajaran Mesin\n",
    "\n",
    "13515025 Kukuh Basuki Rahmat  \n",
    "13515037 Muhammad Irfan Maulana  \n",
    "13515071 Daniel Pintara\n",
    "\n",
    "## Inisialisasi Dataset `tennis`"
   ]
  },
  {
   "cell_type": "code",
   "execution_count": 22,
   "metadata": {},
   "outputs": [],
   "source": [
    "import pandas as pd\n",
    "import numpy as np\n",
    "from sklearn.preprocessing import LabelEncoder\n",
    "from sklearn.model_selection import train_test_split\n",
    "\n",
    "tennis2 = pd.read_csv(\"tennis.csv\")\n",
    "\n",
    "play_data = tennis2.play\n",
    "play_data = play_data.values\n",
    "\n",
    "tennis_target = LabelEncoder().fit_transform(play_data)\n",
    "\n",
    "# Drop last columns\n",
    "tennis2.drop(tennis2.columns[0], axis=1, inplace=True)\n",
    "tennis2.drop(tennis2.columns[-1], axis=1, inplace=True)\n",
    "\n",
    "# encode data (masih harus dibenerin)\n",
    "tennis_data = tennis2.apply(LabelEncoder().fit_transform)\n",
    "tennis_data = tennis_data.values\n",
    "\n",
    "# split train and test data\n",
    "train_x, test_x, train_y, test_y = train_test_split(tennis_data, tennis_target, test_size= 0.1)\n",
    "\n",
    "t"
   ]
  },
  {
   "cell_type": "markdown",
   "metadata": {},
   "source": [
    "## Uji Coba Classifier"
   ]
  },
  {
   "cell_type": "code",
   "execution_count": 21,
   "metadata": {},
   "outputs": [
    {
     "data": {
      "text/plain": [
       "array([0.54067774, 0.54067774])"
      ]
     },
     "execution_count": 21,
     "metadata": {},
     "output_type": "execute_result"
    }
   ],
   "source": [
    "import numpy as np\n",
    "\n",
    "from importlib import reload\n",
    "# Auto-reload\n",
    "import ml_course.mlp\n",
    "MLP = reload(ml_course.mlp).MLP\n",
    "\n",
    "model = MLP(hidden_layer_sizes=(8,8,), learning_rate=0.01, max_iteration=25)\n",
    "model.fit(train_x, train_y)\n",
    "pred_y = model.predict(test_x)\n",
    "test_pred_y = [(1 if i > 0.5 else 0) for i in pred_y]\n",
    "\n",
    "pred_y"
   ]
  },
  {
   "cell_type": "markdown",
   "metadata": {},
   "source": [
    "## Metriks"
   ]
  },
  {
   "cell_type": "code",
   "execution_count": 20,
   "metadata": {},
   "outputs": [
    {
     "name": "stdout",
     "output_type": "stream",
     "text": [
      "Accuracy: 100.0%\n"
     ]
    }
   ],
   "source": [
    "n_cnt = 0\n",
    "\n",
    "for i in range(len(test_y)):\n",
    "    n_cnt += test_y[i] == test_pred_y[i]\n",
    "\n",
    "print(\"Accuracy: \" + str(n_cnt / len(test_y) * 100) + \"%\")"
   ]
  }
 ],
 "metadata": {
  "kernelspec": {
   "display_name": "Python 3",
   "language": "python",
   "name": "python3"
  },
  "language_info": {
   "codemirror_mode": {
    "name": "ipython",
    "version": 3
   },
   "file_extension": ".py",
   "mimetype": "text/x-python",
   "name": "python",
   "nbconvert_exporter": "python",
   "pygments_lexer": "ipython3",
   "version": "3.7.0"
  }
 },
 "nbformat": 4,
 "nbformat_minor": 2
}
